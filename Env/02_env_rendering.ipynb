{
 "cells": [
  {
   "cell_type": "code",
   "execution_count": 1,
   "id": "95fe429a-d6fa-46aa-b840-ba3ebae0971d",
   "metadata": {},
   "outputs": [],
   "source": [
    "import gym\n",
    "import time\n",
    "import matplotlib.pyplot as plt\n",
    "from matplotlib import animation"
   ]
  },
  {
   "cell_type": "markdown",
   "id": "898d662c-a130-4bf8-9775-0b0ff61cbc2f",
   "metadata": {},
   "source": [
    "# mode = 'human'"
   ]
  },
  {
   "cell_type": "code",
   "execution_count": null,
   "id": "7dbe1f64",
   "metadata": {},
   "outputs": [],
   "source": [
    "env_name = 'CartPole-v0'\n",
    "env = gym.make(env_name, render_mode='human')\n",
    "env = gym.wrappers.RecordVideo(env, 'video')  # 视频将保存在 ./video 目录"
   ]
  },
  {
   "cell_type": "code",
   "execution_count": 6,
   "id": "ed636074-6e83-4764-9711-8e3acf1588d7",
   "metadata": {},
   "outputs": [
    {
     "name": "stdout",
     "output_type": "stream",
     "text": [
      "MoviePy - Building video /Users/solidify/Git/Reinforce Learning/gym/video/rl-video-episode-0.mp4.\n",
      "MoviePy - Writing video /Users/solidify/Git/Reinforce Learning/gym/video/rl-video-episode-0.mp4\n",
      "\n"
     ]
    },
    {
     "name": "stderr",
     "output_type": "stream",
     "text": [
      "                                                             "
     ]
    },
    {
     "name": "stdout",
     "output_type": "stream",
     "text": [
      "MoviePy - Done !\n",
      "MoviePy - video ready /Users/solidify/Git/Reinforce Learning/gym/video/rl-video-episode-0.mp4\n"
     ]
    },
    {
     "name": "stderr",
     "output_type": "stream",
     "text": [
      "\r"
     ]
    },
    {
     "name": "stdout",
     "output_type": "stream",
     "text": [
      "34.0\n"
     ]
    }
   ],
   "source": [
    "observation, info = env.reset()\n",
    "done = False\n",
    "total_reward = 0\n",
    "\n",
    "while not done:\n",
    "    action = env.action_space.sample()\n",
    "    observation, reward, terminated, truncated, info = env.step(action)  # 新版返回5个值\n",
    "    done = terminated or truncated\n",
    "    total_reward += reward\n",
    "    time.sleep(0.5)\n",
    "print(total_reward)"
   ]
  },
  {
   "cell_type": "markdown",
   "id": "8bb9f40a",
   "metadata": {},
   "source": [
    "# render save"
   ]
  },
  {
   "cell_type": "code",
   "execution_count": 2,
   "id": "837aab15",
   "metadata": {},
   "outputs": [
    {
     "name": "stderr",
     "output_type": "stream",
     "text": [
      "/Users/solidify/miniconda3/envs/rl_env/lib/python3.11/site-packages/gym/envs/registration.py:555: UserWarning: \u001b[33mWARN: The environment CartPole-v0 is out of date. You should consider upgrading to version `v1`.\u001b[0m\n",
      "  logger.warn(\n"
     ]
    }
   ],
   "source": [
    "env_name = 'CartPole-v0'\n",
    "env = gym.make(env_name, render_mode='rgb_array')\n"
   ]
  },
  {
   "cell_type": "code",
   "execution_count": 4,
   "id": "9ca96b4a",
   "metadata": {},
   "outputs": [
    {
     "name": "stdout",
     "output_type": "stream",
     "text": [
      "10.0\n"
     ]
    }
   ],
   "source": [
    "observation, info = env.reset()\n",
    "done = False\n",
    "total_reward = 0\n",
    "\n",
    "frames = []\n",
    "\n",
    "while not done:\n",
    "    frames.append(env.render())\n",
    "    action = env.action_space.sample()\n",
    "    observation, reward, terminated, truncated, info = env.step(action)  # 新版返回5个值\n",
    "    done = terminated or truncated\n",
    "    total_reward += reward\n",
    "    time.sleep(0.5)\n",
    "env.close()\n",
    "print(total_reward)"
   ]
  },
  {
   "cell_type": "code",
   "execution_count": 5,
   "id": "29d01501",
   "metadata": {},
   "outputs": [
    {
     "data": {
      "text/plain": [
       "10"
      ]
     },
     "execution_count": 5,
     "metadata": {},
     "output_type": "execute_result"
    }
   ],
   "source": [
    "len(frames)"
   ]
  },
  {
   "cell_type": "code",
   "execution_count": 6,
   "id": "d6634b4d",
   "metadata": {},
   "outputs": [
    {
     "data": {
      "text/plain": [
       "(400, 600, 3)"
      ]
     },
     "execution_count": 6,
     "metadata": {},
     "output_type": "execute_result"
    }
   ],
   "source": [
    "frames[0].shape"
   ]
  },
  {
   "cell_type": "code",
   "execution_count": null,
   "id": "bad43034",
   "metadata": {},
   "outputs": [],
   "source": [
    "def display_frames_to_video(frames):\n",
    "    # 创建画布，将第一张图片作为第一帧\n",
    "    plt.figure(figsize=(frames[0].shape[0]/72, frames[0].shape[1]/72), dpi=72)\n",
    "    plt.axis('off')\n",
    "    patch = plt.imshow(frames[0])\n",
    "\n",
    "    def animate(i):\n",
    "        patch.set_data(frames[i])\n",
    "\n",
    "    ani = animation.FuncAnimation(\n",
    "        plt.gcf(),  # get current figure 获取当前的画布\n",
    "        animate,\n",
    "        frames=range(len(frames)),\n",
    "        interval=50     # 两帧之间的时间间隔（毫秒）\n",
    "    )\n",
    "    ani.save('cartpole.gif', writer='imagemagick')\n",
    "\n",
    "    "
   ]
  },
  {
   "cell_type": "code",
   "execution_count": null,
   "id": "364f24a3",
   "metadata": {},
   "outputs": [],
   "source": [
    "# def display_frames_to_video(frames):\n",
    "#     # 创建画框，将第一张图片作为第一帧\n",
    "#     plt.figure(figsize=(frames[0].shape[0]/72, frames[0].shape[1]/72), dpi=72)\n",
    "#     plt.axis('off')\n",
    "#     patch = plt.imshow(frames[0])\n",
    "\n",
    "#     def animate(frame):\n",
    "#         patch.set_data(frame)\n",
    "\n",
    "#     ani = animation.FuncAnimation(\n",
    "#         plt.gcf(),\n",
    "#         animate,\n",
    "#         frames=frames[1:],\n",
    "#         interval=50\n",
    "#     )\n",
    "#     ani.save('cartpole.gif', writer='imagemagick')\n",
    "\n",
    "    "
   ]
  },
  {
   "cell_type": "code",
   "execution_count": 8,
   "id": "87a0fd3f",
   "metadata": {},
   "outputs": [
    {
     "name": "stderr",
     "output_type": "stream",
     "text": [
      "MovieWriter imagemagick unavailable; using Pillow instead.\n"
     ]
    },
    {
     "data": {
      "image/png": "[encoded data removed]",
      "text/plain": [
       "<Figure size 400x600 with 1 Axes>"
      ]
     },
     "metadata": {},
     "output_type": "display_data"
    }
   ],
   "source": [
    "display_frames_to_video(frames)"
   ]
  },
  {
   "cell_type": "code",
   "execution_count": null,
   "id": "d97296e8",
   "metadata": {},
   "outputs": [],
   "source": []
  }
 ],
 "metadata": {
  "kernelspec": {
   "display_name": "rl_env",
   "language": "python",
   "name": "python3"
  },
  "language_info": {
   "codemirror_mode": {
    "name": "ipython",
    "version": 3
   },
   "file_extension": ".py",
   "mimetype": "text/x-python",
   "name": "python",
   "nbconvert_exporter": "python",
   "pygments_lexer": "ipython3",
   "version": "3.11.11"
  }
 },
 "nbformat": 4,
 "nbformat_minor": 5
}
